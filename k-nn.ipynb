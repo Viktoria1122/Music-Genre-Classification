{
  "cells": [
    {
      "cell_type": "code",
      "execution_count": 44,
      "metadata": {
        "colab": {
          "base_uri": "https://localhost:8080/",
          "height": 332
        },
        "id": "ShWe-vPH8JTc",
        "outputId": "54d4afc7-aa7d-415d-f267-7c824bd02d55"
      },
      "outputs": [
        {
          "name": "stdout",
          "output_type": "stream",
          "text": [
            "Accuracy: 70%\n",
            "Real labels:      ['blues', 'rock', 'disco', 'rock', 'jazz', 'disco', 'country', 'jazz', 'disco', 'jazz']\n",
            "Predicted labels: ['blues', 'rock', 'blues', 'rock', 'jazz', 'jazz', 'blues', 'classical', 'rock', 'jazz']\n"
          ]
        }
      ],
      "source": [
        "import csv\n",
        "import math\n",
        "from collections import Counter\n",
        "import random\n",
        "\n",
        "class KNN:\n",
        "    def __init__(self, k=5):\n",
        "        self.k = k\n",
        "\n",
        "    def fit(self, X, y):\n",
        "        self.X_train, self.y_train = X, y\n",
        "\n",
        "    def predict(self, X_test):\n",
        "        return [self._predict_one(x) for x in X_test]\n",
        "\n",
        "    def _predict_one(self, x):\n",
        "        distances = [(math.dist(x, train_x), i) for i, train_x in enumerate(self.X_train)]\n",
        "        k_labels = [self.y_train[i] for _, i in sorted(distances)[:self.k]]\n",
        "        return Counter(k_labels).most_common(1)[0][0]\n",
        "\n",
        "def read_csv(file_path):\n",
        "    with open(file_path, 'r', encoding='utf-8') as f:\n",
        "        reader = csv.reader(f)\n",
        "        headers = next(reader)\n",
        "        label_idx = headers.index('label')\n",
        "        exclude = {headers.index('filename'), headers.index('length'), label_idx}\n",
        "\n",
        "        X, y = [], []\n",
        "        for row in reader:\n",
        "            features = [float(val) for i, val in enumerate(row) if i not in exclude]\n",
        "            X.append(features)\n",
        "            y.append(row[label_idx])\n",
        "    return X, y\n",
        "\n",
        "def normalize(X):\n",
        "    n, m = len(X), len(X[0])\n",
        "    means = [sum(X[i][j] for i in range(n)) / n for j in range(m)]\n",
        "    stds = [math.sqrt(sum((X[i][j] - means[j])**2 for i in range(n)) / n) for j in range(m)]\n",
        "    return [[(X[i][j] - means[j]) / stds[j] if stds[j] else 0 for j in range(m)] for i in range(n)]\n",
        "\n",
        "import random\n",
        "\n",
        "if __name__ == \"__main__\":\n",
        "    X, y = read_csv(\"features_30_sec.csv\")\n",
        "    X = normalize(X)\n",
        "\n",
        "    combined = list(zip(X, y))\n",
        "    random.shuffle(combined)\n",
        "    X, y = zip(*combined)\n",
        "    X, y = list(X), list(y)\n",
        "\n",
        "    split_idx = int(0.8 * len(X))\n",
        "\n",
        "    X_train, y_train = X[:split_idx], y[:split_idx]\n",
        "    X_test, y_test = X[split_idx:], y[split_idx:]\n",
        "\n",
        "    knn = KNN(k=5)\n",
        "    knn.fit(X_train, y_train)\n",
        "    predictions = knn.predict(X_test)\n",
        "\n",
        "    acc = sum(p == t for p, t in zip(predictions, y_test)) / len(y_test) * 100\n",
        "\n",
        "    print(f'Accuracy: {acc:.0f}%')\n",
        "    print(\"Real labels:     \", y_test[:10])\n",
        "    print(\"Predicted labels:\", predictions[:10])"
      ]
    }
  ],
  "metadata": {
    "colab": {
      "provenance": []
    },
    "kernelspec": {
      "display_name": "Python 3",
      "name": "python3"
    },
    "language_info": {
      "codemirror_mode": {
        "name": "ipython",
        "version": 3
      },
      "file_extension": ".py",
      "mimetype": "text/x-python",
      "name": "python",
      "nbconvert_exporter": "python",
      "pygments_lexer": "ipython3",
      "version": "3.11.5"
    }
  },
  "nbformat": 4,
  "nbformat_minor": 0
}
